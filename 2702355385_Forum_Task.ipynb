{
  "nbformat": 4,
  "nbformat_minor": 0,
  "metadata": {
    "colab": {
      "provenance": []
    },
    "kernelspec": {
      "name": "python3",
      "display_name": "Python 3"
    },
    "language_info": {
      "name": "python"
    }
  },
  "cells": [
    {
      "cell_type": "markdown",
      "source": [
        "Forum Task 1"
      ],
      "metadata": {
        "id": "IS5ol6WSAZmh"
      }
    },
    {
      "cell_type": "code",
      "source": [
        "\n",
        "lloyd = {\n",
        "    \"name\": \"Lloyd\",\n",
        "    \"homework\": [90.0,97.0,75.0,92.0],\n",
        "    \"quizzes\": [88.0,40.0,94.0],\n",
        "    \"tests\": [75.0,90.0]\n",
        "    }\n",
        "alice = {\n",
        "    \"name\": \"Alice\",\n",
        "    \"homework\": [100.0, 92.0, 98.0, 100.0],\n",
        "    \"quizzes\": [82.0, 83.0, 91.0],\n",
        "    \"tests\": [89.0, 97.0]\n",
        "    }\n",
        "tyler = {\n",
        "    \"name\": \"Tyler\",\n",
        "    \"homework\": [0.0, 87.0, 75.0, 22.0],\n",
        "    \"quizzes\": [0.0, 75.0, 78.0],\n",
        "    \"tests\": [100.0, 100.0]\n",
        "    }\n",
        "\n",
        "list = [lloyd, alice, tyler]\n",
        "\n",
        "def average(numbers):\n",
        "    total = float(sum(numbers))\n",
        "    result = total/len(list)\n",
        "    return result\n",
        "\n",
        "def get_average(student):\n",
        "    homework = average(student[\"homework\"])\n",
        "    quiz = average(student[\"quizzes\"])\n",
        "    tests = average(student[\"tests\"])\n",
        "    return (homework*0.1)+(quiz*0.3)+(tests*0.6)\n",
        "\n",
        "def get_letter_grade(score):\n",
        "    if score >= 90:\n",
        "        return \"A\"\n",
        "    elif score >= 80:\n",
        "        return \"B\"\n",
        "    elif score >= 70:\n",
        "        return \"C\"\n",
        "    elif score >= 60:\n",
        "        return \"D\"\n",
        "    else:\n",
        "        return \"F\"\n",
        "\n",
        "for i in list:\n",
        "    print(get_letter_grade(get_average(i)))"
      ],
      "metadata": {
        "id": "DF2kYnF5AbA9"
      },
      "execution_count": null,
      "outputs": []
    },
    {
      "cell_type": "markdown",
      "source": [
        "Forum Task 2"
      ],
      "metadata": {
        "id": "gLpuxFILAcYH"
      }
    },
    {
      "cell_type": "code",
      "source": [
        "course_numbers= (\"COP 2510\",\"EGN 3000L\",\"MAC 2281\", \"MUH 3016\", \"PHY 2048\")\n",
        "\n",
        "course_name ={\n",
        "    \"COP 2510\" : \"Programming Concept\",\n",
        "    \"EGN 3000L\": \"Foundations of Engineering Lab\",\n",
        "    \"MAC 2281\" : \"Calculus I\",\n",
        "    \"MUH 3016\" : \"Survey of Jazz\",\n",
        "    \"PHY 2048\" : \"General Physics I\"\n",
        "}\n",
        "\n",
        "course_instructor = {\n",
        "    \"COP 2510\" : \"Z. Beasley\",\n",
        "    \"EGN 3000L\": \"J. Anderson\",\n",
        "    \"MAC 2281\" : \"A. Makaryus\",\n",
        "    \"MUH 3016\" : \"A. Wilkins\",\n",
        "    \"PHY 2048\" : \"G. Pradhan\"\n",
        "}\n",
        "\n",
        "course_class_time = {\n",
        "    \"COP 2510\" : \"MW 12:30pm – 1:45pm\",\n",
        "    \"EGN 3000L\": \"TR 11:00am – 12:15pm\",\n",
        "    \"MAC 2281\" : \"MW 9:30am – 10:45am\",\n",
        "    \"MUH 3016\" : \"online asynchronous\",\n",
        "    \"PHY 2048\" : \"TR 5:00pm – 6:15pm\"\n",
        "}\n",
        "\n",
        "print(course_numbers)\n",
        "user_input = input(\"Please input a course:\").upper()\n",
        "\n",
        "#if statement to check if the user input\n",
        "if user_input in course_numbers:\n",
        "    print(f\"Here is the detail abou the course {user_input}:\")\n",
        "    print(f\"Course Name: \" + course_name[user_input])\n",
        "    print(f\"Concept instructure: \" + course_instructor[user_input])\n",
        "    print(f\"Course Time: \" + course_class_time[user_input])\n",
        "else:\n",
        "    print(\"Please input a valid course: \")"
      ],
      "metadata": {
        "id": "CVj9c79VAejG"
      },
      "execution_count": null,
      "outputs": []
    },
    {
      "cell_type": "markdown",
      "source": [
        "Forum Task 3"
      ],
      "metadata": {
        "id": "SpjYKM8mAf0l"
      }
    },
    {
      "cell_type": "code",
      "source": [
        "days = (\"Monday\", \"Tuesday\", \"Wednesday\", \"Thursday\", \"Friday\", \"Saturday\", \"Sunday\")\n",
        "\n",
        "sales = []\n",
        "\n",
        "#for loop to repeat the process till each day is filled\n",
        "for day in days:\n",
        "    try:\n",
        "        #makes user input the sales for each day of the week\n",
        "        user_input = float(input(f\"Please input the sale for {day}: \"))\n",
        "        #if function to make sure user input a number above 0\n",
        "        if user_input > 0:\n",
        "            sales.append(user_input)\n",
        "        else:\n",
        "            print(\"Please enter a value above 0 !\")\n",
        "            continue\n",
        "    #If user doesnt input a number it will go to this function\n",
        "    except ValueError:\n",
        "        print(\"Value Error please re-input the sales! \")\n",
        "        continue\n",
        "\n",
        "format_total = \"{:.2f}\".format(sum(sales))\n",
        "format_min = \"{:.2f}\".format(min(sales))\n",
        "format_max = \"{:.2f}\".format(max(sales))\n",
        "\n",
        "\n",
        "print(f\"The total sales is ${format_total}\")\n",
        "print(f\"The minimum sale amount is: ${format_min} and the maximum sales amount is: ${format_max}\")"
      ],
      "metadata": {
        "id": "NW6a1iSJAhbB"
      },
      "execution_count": null,
      "outputs": []
    },
    {
      "cell_type": "markdown",
      "source": [
        "Forum Task 4"
      ],
      "metadata": {
        "id": "x7lfxe6FAitt"
      }
    },
    {
      "cell_type": "code",
      "source": [
        "\n",
        "morse_code_dict = ({\n",
        "    'A': '.-', 'B': '-...', 'C': '-.-.', 'D': '-..', 'E': '.', 'F': '..-.', 'G': '--.', 'H': '....',\n",
        "    'I': '..', 'J': '.---', 'K': '-.-', 'L': '.-..', 'M': '--', 'N': '-.', 'O': '---', 'P': '.--.',\n",
        "    'Q': '--.-', 'R': '.-.', 'S': '...', 'T': '-', 'U': '..-', 'V': '...-', 'W': '.--', 'X': '-..-',\n",
        "    'Y': '-.--', 'Z': '--..', '1': '.----', '2': '..---', '3': '...--', '4': '....-', '5': '.....',\n",
        "    '6': '-....', '7': '--...', '8': '---..', '9': '----.', '0': '-----', ' ': ' '\n",
        "})\n",
        "\n",
        "def convert(string):\n",
        "    morse = \"\"\n",
        "    #for loop for every letter in the string that the user input\n",
        "    for x in string:\n",
        "        #checks if the user input is in the dictionary on line 2\n",
        "        if x.upper() in morse_code_dict:\n",
        "            #uses the empty string in line 11 and concatinate it with the morsecode in the dictionary\n",
        "            morse += morse_code_dict[x.upper()]\n",
        "        else:\n",
        "            morse += \" \"\n",
        "    return morse\n",
        "\n",
        "user_input = input(\"Please input smth u want to convert to: \")\n",
        "\n",
        "print(convert(user_input))\n"
      ],
      "metadata": {
        "id": "2DvYW7oOAkVv"
      },
      "execution_count": null,
      "outputs": []
    }
  ]
}